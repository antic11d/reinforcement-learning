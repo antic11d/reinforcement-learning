{
 "cells": [
  {
   "cell_type": "code",
   "execution_count": null,
   "metadata": {
    "ExecuteTime": {
     "end_time": "2020-12-15T14:52:17.299585Z",
     "start_time": "2020-12-15T14:52:17.293587Z"
    }
   },
   "outputs": [],
   "source": [
    "import numpy as np\n",
    "import gym\n",
    "import torch\n",
    "\n",
    "from mpl_toolkits.mplot3d import Axes3D\n",
    "from matplotlib import cm\n",
    "import matplotlib.pyplot as plt\n",
    "%matplotlib inline\n",
    "\n",
    "# this way of importing allow to reload/refresh the module later with importlib.reload(policy)\n",
    "import policy as policy \n",
    "import memory as mem\n",
    "from feedforward import Feedforward\n",
    "from custompendulumenv import CustomPendulumEnv\n",
    "\n",
    "# Added for nicer logging\n",
    "from tqdm import tqdm"
   ]
  },
  {
   "cell_type": "markdown",
   "metadata": {},
   "source": [
    "Load environment, policy and memory."
   ]
  },
  {
   "cell_type": "code",
   "execution_count": null,
   "metadata": {
    "ExecuteTime": {
     "end_time": "2020-12-15T12:44:21.232199Z",
     "start_time": "2020-12-15T12:44:21.221523Z"
    }
   },
   "outputs": [],
   "source": [
    "env = gym.make('CustomPendulum-v0')\n",
    "pi = policy.PDPolicy(env)\n",
    "buffer = mem.Memory()"
   ]
  },
  {
   "cell_type": "markdown",
   "metadata": {},
   "source": [
    "## Inspect the environment "
   ]
  },
  {
   "cell_type": "code",
   "execution_count": null,
   "metadata": {
    "ExecuteTime": {
     "end_time": "2020-12-15T12:44:24.362229Z",
     "start_time": "2020-12-15T12:44:21.423680Z"
    }
   },
   "outputs": [],
   "source": [
    "s = env.reset()\n",
    "for t in range(100):\n",
    "    env.render()\n",
    "    a = pi.get_action(s) \n",
    "    s_new, rew, done, _ = env.step(a)\n",
    "    buffer.add_transition([s,a,rew,s_new, done])\n",
    "    s = s_new"
   ]
  },
  {
   "cell_type": "code",
   "execution_count": null,
   "metadata": {
    "ExecuteTime": {
     "end_time": "2020-12-15T12:44:24.372918Z",
     "start_time": "2020-12-15T12:44:24.367022Z"
    }
   },
   "outputs": [],
   "source": [
    "transitions = buffer.get_all_transitions()\n",
    "states = np.vstack(transitions[:,0])\n",
    "actions = transitions[:,1]\n",
    "rewards = transitions[:,2]"
   ]
  },
  {
   "cell_type": "markdown",
   "metadata": {},
   "source": [
    "Plot the trajectory: (state, action, reward)\n",
    " \n",
    " The state is [position, velocity] \n",
    " \n",
    " **changes are needed**"
   ]
  },
  {
   "cell_type": "code",
   "execution_count": null,
   "metadata": {
    "ExecuteTime": {
     "end_time": "2020-12-15T12:44:28.198715Z",
     "start_time": "2020-12-15T12:44:27.983774Z"
    }
   },
   "outputs": [],
   "source": [
    "fig = plt.figure()\n",
    "ax = fig.add_subplot(111, projection='3d')\n",
    "ax.scatter(xs=states[:, 0],\n",
    "        ys=actions,\n",
    "        zs=rewards)\n",
    "plt.show()"
   ]
  },
  {
   "cell_type": "markdown",
   "metadata": {},
   "source": [
    "# Collect data"
   ]
  },
  {
   "cell_type": "markdown",
   "metadata": {},
   "source": [
    "We do 500 rollouts a 100 timesteps with the black box policy. Nothing needs to be changed here."
   ]
  },
  {
   "cell_type": "code",
   "execution_count": null,
   "metadata": {
    "ExecuteTime": {
     "end_time": "2020-12-15T12:44:33.098387Z",
     "start_time": "2020-12-15T12:44:29.968161Z"
    }
   },
   "outputs": [],
   "source": [
    "for ep in range(500):\n",
    "    s = env.reset()\n",
    "    for t in range(100):\n",
    "        a = pi.get_action(s) \n",
    "        s_new, rew, done, _ = env.step(a)\n",
    "        buffer.add_transition([s,a,rew,s_new, done])\n",
    "        s = s_new"
   ]
  },
  {
   "cell_type": "code",
   "execution_count": null,
   "metadata": {},
   "outputs": [],
   "source": [
    "buffer.size"
   ]
  },
  {
   "cell_type": "markdown",
   "metadata": {
    "ExecuteTime": {
     "end_time": "2018-12-06T18:35:13.913704Z",
     "start_time": "2018-12-06T18:35:13.261773Z"
    }
   },
   "source": [
    "# Fit value function"
   ]
  },
  {
   "cell_type": "markdown",
   "metadata": {},
   "source": [
    "The value function fitting class. Here, you need to fill in the blank parts"
   ]
  },
  {
   "cell_type": "code",
   "execution_count": null,
   "metadata": {
    "ExecuteTime": {
     "end_time": "2020-12-15T12:47:34.682257Z",
     "start_time": "2020-12-15T12:47:34.671441Z"
    }
   },
   "outputs": [],
   "source": [
    "class ValueFunction(Feedforward):\n",
    "    def __init__(self, observation_dim, device, hidden_sizes=[100,100]):\n",
    "        super().__init__(input_size=observation_dim, hidden_sizes=hidden_sizes, output_size=1, device=device)\n",
    "\n",
    "        self.optimizer = torch.optim.Adam(self.parameters(), lr=0.0002, eps=0.000001)\n",
    "        \n",
    "        self.loss = torch.nn.MSELoss()\n",
    "    \n",
    "    def fit(self, observations, targets):\n",
    "        # Add one training step here. \n",
    "        # The states are called here observations        \n",
    "        self.optimizer.zero_grad()\n",
    "\n",
    "        targets = targets.to(self.device)\n",
    "\n",
    "        t_observations = torch.FloatTensor(observations).to(self.device)\n",
    "        preds = self.forward(t_observations)\n",
    "\n",
    "        loss = self.loss(preds, targets)\n",
    "\n",
    "        loss.backward()\n",
    "        self.optimizer.step()        \n",
    "\n",
    "        # return the current loss\n",
    "        return loss.item()"
   ]
  },
  {
   "cell_type": "code",
   "execution_count": null,
   "metadata": {},
   "outputs": [],
   "source": [
    "device = torch.device('cuda' if torch.cuda.is_available() else 'cpu')\n",
    "device.type"
   ]
  },
  {
   "cell_type": "code",
   "execution_count": null,
   "metadata": {
    "ExecuteTime": {
     "end_time": "2020-12-15T12:47:35.137367Z",
     "start_time": "2020-12-15T12:47:35.131626Z"
    }
   },
   "outputs": [],
   "source": [
    "valuefunc = ValueFunction(observation_dim=2, device=device)\n",
    "if device.type == 'cuda':\n",
    "    valuefunc.cuda()"
   ]
  },
  {
   "cell_type": "code",
   "execution_count": null,
   "metadata": {},
   "outputs": [],
   "source": [
    "def plot_values(valuefunc, filename):\n",
    "    plt.rcParams.update({'font.size': 12})\n",
    "    xxs =np.linspace(-np.pi,np.pi)\n",
    "    yys =np.linspace(-8,8)\n",
    "    XX,YY=np.meshgrid(xxs,yys)\n",
    "    dots=np.asarray([XX.ravel(),YY.ravel()]).T\n",
    "    # values = np.asarray(test_func(dots)).reshape(XX.shape)\n",
    "    values = valuefunc.predict(dots).reshape(XX.shape)\n",
    "\n",
    "    fig = plt.figure(figsize=[10,8])\n",
    "    ax = fig.gca(projection='3d')\n",
    "    surf = ax.plot_surface(XX, YY, values, cmap=cm.coolwarm,\n",
    "                        linewidth=0, antialiased=False)\n",
    "    ax.set_xlabel('angle')\n",
    "    ax.set_ylabel('angle velocity')\n",
    "    ax.set_zlabel('value')\n",
    "    fig.savefig(filename, bbox_inches=\"tight\")"
   ]
  },
  {
   "cell_type": "code",
   "execution_count": null,
   "metadata": {},
   "outputs": [],
   "source": [
    "plot_values(valuefunc, 'before_training.pdf')"
   ]
  },
  {
   "cell_type": "markdown",
   "metadata": {},
   "source": [
    "Fitting routine of the value function. Fill in the blank parts."
   ]
  },
  {
   "cell_type": "code",
   "execution_count": null,
   "metadata": {
    "ExecuteTime": {
     "end_time": "2020-12-15T14:53:25.341257Z",
     "start_time": "2020-12-15T14:53:09.713410Z"
    },
    "tags": []
   },
   "outputs": [],
   "source": [
    "plt_fit = []\n",
    "iter_fit = 30000 # do at least 1000 \n",
    "gamma=0.95\n",
    "for i, _ in enumerate(tqdm(range(iter_fit))):\n",
    "\n",
    "    # sample from the replay buffer\n",
    "    data=buffer.sample(batch=128)\n",
    "    # each entry in data is (state,action,reward,next_state, done)    \n",
    "\n",
    "    states = np.stack(data[:, 0])\n",
    "    \n",
    "    next_states = torch.FloatTensor(np.stack(data[:, -2]))\n",
    "    next_state_values = valuefunc.forward(next_states)\n",
    "    \n",
    "    rewards = torch.FloatTensor(np.stack(data[:, 2])).to(device)\n",
    "    td_target = rewards + gamma * next_state_values\n",
    "            \n",
    "    # optimize the least squared objective\n",
    "    fit_loss = valuefunc.fit(states, td_target)\n",
    "    \n",
    "    if i % (iter_fit / 20) == 0:\n",
    "        print(f'\\t\\tLoss:\\t{fit_loss:.4f}')\n",
    "        plt_fit.append(fit_loss)\n",
    "    \n",
    "# plot the loss\n",
    "plt.figure()\n",
    "plt.yscale(\"log\")\n",
    "plt.plot(range(len(plt_fit)),plt_fit)"
   ]
  },
  {
   "cell_type": "markdown",
   "metadata": {},
   "source": [
    "# Visualize"
   ]
  },
  {
   "cell_type": "markdown",
   "metadata": {
    "ExecuteTime": {
     "end_time": "2018-12-07T07:37:06.258855Z",
     "start_time": "2018-12-07T07:37:06.255274Z"
    }
   },
   "source": [
    "Visualization of the value function. Nothing needs to be changed here."
   ]
  },
  {
   "cell_type": "code",
   "execution_count": null,
   "metadata": {
    "ExecuteTime": {
     "end_time": "2020-12-15T14:53:30.804526Z",
     "start_time": "2020-12-15T14:53:30.714375Z"
    }
   },
   "outputs": [],
   "source": [
    "plot_values(valuefunc, f'value_approx_{gamma}.pdf')"
   ]
  },
  {
   "cell_type": "code",
   "execution_count": null,
   "metadata": {},
   "outputs": [],
   "source": []
  }
 ],
 "metadata": {
  "kernelspec": {
   "name": "python3",
   "display_name": "Python 3.8.2 64-bit ('torch': conda)",
   "metadata": {
    "interpreter": {
     "hash": "119c7583482d738143dc76bd4d0d575ecfb5b46bb33bf5b75113ed570a615ad6"
    }
   }
  },
  "language_info": {
   "codemirror_mode": {
    "name": "ipython",
    "version": 3
   },
   "file_extension": ".py",
   "mimetype": "text/x-python",
   "name": "python",
   "nbconvert_exporter": "python",
   "pygments_lexer": "ipython3",
   "version": "3.8.2-final"
  },
  "toc": {
   "base_numbering": 1,
   "nav_menu": {},
   "number_sections": true,
   "sideBar": true,
   "skip_h1_title": false,
   "title_cell": "Table of Contents",
   "title_sidebar": "Contents",
   "toc_cell": false,
   "toc_position": {},
   "toc_section_display": true,
   "toc_window_display": false
  },
  "varInspector": {
   "cols": {
    "lenName": 16,
    "lenType": 16,
    "lenVar": 40
   },
   "kernels_config": {
    "python": {
     "delete_cmd_postfix": "",
     "delete_cmd_prefix": "del ",
     "library": "var_list.py",
     "varRefreshCmd": "print(var_dic_list())"
    },
    "r": {
     "delete_cmd_postfix": ") ",
     "delete_cmd_prefix": "rm(",
     "library": "var_list.r",
     "varRefreshCmd": "cat(var_dic_list()) "
    }
   },
   "types_to_exclude": [
    "module",
    "function",
    "builtin_function_or_method",
    "instance",
    "_Feature"
   ],
   "window_display": false
  }
 },
 "nbformat": 4,
 "nbformat_minor": 2
}