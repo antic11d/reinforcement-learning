{
 "cells": [
  {
   "cell_type": "code",
   "execution_count": null,
   "metadata": {
    "ExecuteTime": {
     "end_time": "2020-12-21T18:05:51.257918Z",
     "start_time": "2020-12-21T18:05:51.251728Z"
    }
   },
   "outputs": [],
   "source": [
    "import gym\n",
    "from gym import spaces\n",
    "import numpy as np\n",
    "import itertools\n",
    "import time\n",
    "import torch\n",
    "import pylab as plt\n",
    "# %matplotlib notebook\n",
    "from mpl_toolkits.mplot3d import Axes3D\n",
    "from matplotlib import cm\n",
    "import copy\n",
    "import memory as mem   \n",
    "from feedforward import Feedforward\n",
    "# import MountainCarInformativeReward\n",
    "from custompendulumenv import CustomPendulumEnvDiscrete\n",
    "import pickle"
   ]
  },
  {
   "cell_type": "markdown",
   "metadata": {},
   "source": [
    "## Helper Functions"
   ]
  },
  {
   "cell_type": "code",
   "execution_count": null,
   "metadata": {
    "ExecuteTime": {
     "end_time": "2020-12-21T18:06:39.417731Z",
     "start_time": "2020-12-21T18:06:39.410580Z"
    }
   },
   "outputs": [],
   "source": [
    "def running_mean(x, N):\n",
    "    cumsum = np.cumsum(np.insert(x, 0, 0)) \n",
    "    return (cumsum[N:] - cumsum[:-N]) / float(N)\n",
    "\n",
    "\n",
    "# func for debugging\n",
    "def print_model_params(model):\n",
    "    for name, param in model.named_parameters():\n",
    "        if param.requires_grad:\n",
    "            print (name, param.data)"
   ]
  },
  {
   "cell_type": "markdown",
   "metadata": {},
   "source": [
    "# DQN"
   ]
  },
  {
   "cell_type": "markdown",
   "metadata": {},
   "source": [
    "Complete the implemenation of DQN with a main Q-network and a target Q-network"
   ]
  },
  {
   "cell_type": "code",
   "execution_count": null,
   "metadata": {
    "ExecuteTime": {
     "end_time": "2020-12-21T18:59:28.812749Z",
     "start_time": "2020-12-21T18:59:28.796517Z"
    }
   },
   "outputs": [],
   "source": [
    "\"\"\" Q Network, input: observations, output: q-values for all actions \"\"\"\n",
    "class QFunction(Feedforward):\n",
    "    def __init__(self, observation_dim, action_dim, device,\n",
    "                 hidden_sizes=[100,100], learning_rate = 0.0002):\n",
    "        super().__init__(input_size=observation_dim, \n",
    "                         hidden_sizes=hidden_sizes, \n",
    "                         output_size=action_dim,\n",
    "                         device=device)\n",
    "        if device.type == 'cuda':\n",
    "            self.cuda()\n",
    "        self.optimizer = torch.optim.Adam(self.parameters(), \n",
    "                                        lr=learning_rate, \n",
    "                                        eps=0.000001) \n",
    "        self.loss = torch.nn.SmoothL1Loss()\n",
    "        \n",
    "        self.print = True\n",
    "        \n",
    "    def fit(self, observations, actions, targets):\n",
    "        # TODO: complete this\n",
    "        targets = torch.from_numpy(targets).to(self.device).float()\n",
    "\n",
    "        pred = self.Q_value(observations, actions)\n",
    "        loss = self.loss(pred, targets)\n",
    "        loss.backward()\n",
    "        for param in self.parameters():\n",
    "            param.grad.data.clamp_(-1, 1)\n",
    "        self.optimizer.step()\n",
    "        return loss.item()\n",
    "    \n",
    "    def Q_value(self, observations, actions):\n",
    "        pred = self.forward(\n",
    "            torch.from_numpy(observations).to(self.device).float()\n",
    "        )\n",
    "        return torch.gather(pred, 1, torch.from_numpy(actions).to(self.device).long())\n",
    "    \n",
    "    def maxQ(self, observations):\n",
    "        return np.max(self.predict(observations), axis=-1)\n",
    "    \n",
    "    def greedyAction(self, observations):\n",
    "        # this computes the greedy action\n",
    "        return np.argmax(self.predict(observations), axis=-1)"
   ]
  },
  {
   "cell_type": "code",
   "execution_count": null,
   "metadata": {
    "ExecuteTime": {
     "end_time": "2020-12-21T19:24:52.568800Z",
     "start_time": "2020-12-21T19:24:52.557112Z"
    }
   },
   "outputs": [],
   "source": [
    "class DQNAgent(object):\n",
    "    \"\"\"\n",
    "    Agent implementing Q-learning with NN function approximation.    \n",
    "    \"\"\"\n",
    "    def __init__(self, observation_space, action_space, **userconfig):\n",
    "        \n",
    "        if not isinstance(observation_space, spaces.box.Box):\n",
    "            raise UnsupportedSpace('Observation space {} incompatible ' \\\n",
    "                                   'with {}. (Require: Box)'.format(observation_space, self))\n",
    "        if not isinstance(action_space, spaces.discrete.Discrete):\n",
    "            raise UnsupportedSpace('Action space {} incompatible with {}.' \\\n",
    "                                   ' (Reqire Discrete.)'.format(action_space, self))\n",
    "        \n",
    "        self._observation_space = observation_space\n",
    "        self._action_space = action_space\n",
    "        self._action_n = action_space.n\n",
    "        self._config = {\n",
    "            \"eps\": 0.05,            # Epsilon in epsilon greedy policies                        \n",
    "            \"discount\": 0.95,\n",
    "            \"buffer_size\": int(1e5),\n",
    "            \"batch_size\": 128,\n",
    "            \"learning_rate\": 0.0002, \n",
    "            \"hidden_sizes\": [100, 100],\n",
    "            \"update_target\": False\n",
    "        }\n",
    "        self._config.update(userconfig)        \n",
    "        self._eps = self._config['eps']\n",
    "        self.buffer = mem.Memory(max_size=self._config[\"buffer_size\"])\n",
    "        \n",
    "        self._print = True # custom variable for debugging\n",
    "        \n",
    "        # complete here\n",
    "        self.train_iter = 100\n",
    "        self.Q = QFunction(self._observation_space.shape[0], self._action_n, \n",
    "                           hidden_sizes=self._config['hidden_sizes'], \n",
    "                           learning_rate=self._config['learning_rate'],\n",
    "                           device=self._config['device'])\n",
    "        \n",
    "        self.target_Q = copy.deepcopy(self.Q)\n",
    "        \n",
    "    def _update_target_net(self):\n",
    "        self.target_Q.load_state_dict(self.Q.state_dict())\n",
    "    \n",
    "    def act(self, observation, eps=None):\n",
    "        if eps is None:\n",
    "            eps = self._eps\n",
    "        # epsilon greedy\n",
    "        if np.random.random() > eps:\n",
    "            action = self.Q.greedyAction(observation)\n",
    "        else: \n",
    "            action = self._action_space.sample()        \n",
    "        return action\n",
    "    \n",
    "    def store_transition(self, transition):\n",
    "        self.buffer.add_transition(transition)\n",
    "            \n",
    "    def train(self, iter_fit=32):\n",
    "        losses = []\n",
    "        if self._config['update_target']:\n",
    "            self._update_target_net()\n",
    "        \n",
    "        for i in range(iter_fit):\n",
    "            data = self.buffer.sample(batch=self._config['batch_size'])\n",
    "            s = np.stack(data[:, 0]) # s_t\n",
    "            a = np.stack(data[:, 1])[:, None] # a_t\n",
    "            rew = np.stack(data[:, 2])[:, None] # r\n",
    "            s_next = np.stack(data[:, 3]) # s_t+1\n",
    "            not_done = (~np.stack(data[:, 4])[:, None]).astype(np.int) # not_done flag\n",
    "            \n",
    "            value_s = self.Q.Q_value(s, a)\n",
    "            if self._config['update_target']:\n",
    "                value_s_next = self.target_Q.maxQ(s_next)[:, None]\n",
    "            else:\n",
    "                value_s_next = self.Q.maxQ(s_next)[:, None]\n",
    "            # target\n",
    "            targets = rew + self._config['discount'] * np.multiply(not_done, value_s_next)\n",
    "\n",
    "            # optimize\n",
    "            fit_loss = self.Q.fit(s, a, targets)\n",
    "            losses.append(fit_loss)    \n",
    "        \n",
    "        return losses"
   ]
  },
  {
   "cell_type": "markdown",
   "metadata": {},
   "source": [
    "## Test in Env"
   ]
  },
  {
   "cell_type": "code",
   "execution_count": null,
   "metadata": {
    "ExecuteTime": {
     "end_time": "2020-12-21T19:02:22.784840Z",
     "start_time": "2020-12-21T19:02:22.774564Z"
    },
    "scrolled": true
   },
   "outputs": [],
   "source": [
    "# env_name = 'CustomPendulumDiscrete-v0'\n",
    "env_name = 'CartPole-v0'\n",
    "\n",
    "env = gym.make(env_name)\n",
    "ac_space = env.action_space\n",
    "o_space = env.observation_space\n",
    "print(ac_space)\n",
    "print(o_space)\n",
    "print(list(zip(env.observation_space.low, env.observation_space.high)))"
   ]
  },
  {
   "cell_type": "code",
   "execution_count": null,
   "metadata": {
    "scrolled": true
   },
   "outputs": [],
   "source": [
    "device = torch.device('cuda' if torch.cuda.is_available() else 'cpu')\n",
    "device"
   ]
  },
  {
   "cell_type": "code",
   "execution_count": null,
   "metadata": {},
   "outputs": [],
   "source": [
    "update_target = True\n",
    "iter_fit = 40"
   ]
  },
  {
   "cell_type": "code",
   "execution_count": null,
   "metadata": {},
   "outputs": [],
   "source": [
    "q_agent = DQNAgent(o_space, ac_space, discount=0.95, eps=0.2, \n",
    "                   hidden_sizes=[256], update_target=update_target, \n",
    "                   learning_rate=0.0001,\n",
    "                   device=device)"
   ]
  },
  {
   "cell_type": "code",
   "execution_count": null,
   "metadata": {},
   "outputs": [],
   "source": [
    "epsilon = 0.95\n",
    "epsilon_decay = 0.9996\n",
    "min_epsilon = 0.01\n",
    "\n",
    "temp_epsilon = epsilon\n",
    "\n",
    "l = []\n",
    "\n",
    "for i in range(20000):\n",
    "    temp_epsilon = max(epsilon_decay*temp_epsilon, min_epsilon)\n",
    "    l.append(temp_epsilon)\n",
    "    \n",
    "    \n",
    "plt.plot(l)\n",
    "plt.ylim(0, 1)\n",
    "plt.show()"
   ]
  },
  {
   "cell_type": "markdown",
   "metadata": {},
   "source": [
    "Train the agent!"
   ]
  },
  {
   "cell_type": "code",
   "execution_count": null,
   "metadata": {
    "ExecuteTime": {
     "end_time": "2020-12-21T19:03:37.085509Z",
     "start_time": "2020-12-21T19:02:25.394222Z"
    },
    "scrolled": false,
    "tags": []
   },
   "outputs": [],
   "source": [
    "stats = []\n",
    "losses = []\n",
    "max_episodes = 700\n",
    "max_steps = 800 \n",
    "fps = 50\n",
    "show = False\n",
    "\n",
    "for i in range(max_episodes):\n",
    "    total_reward = 0\n",
    "    ob = env.reset()\n",
    "    for t in range(max_steps):\n",
    "        done = False    \n",
    "        epsilon = max(epsilon_decay * epsilon, min_epsilon)\n",
    "        a = q_agent.act(ob, eps=epsilon)\n",
    "        (ob_new, reward, done, _info) = env.step(a)\n",
    "        total_reward += reward\n",
    "        q_agent.store_transition((ob, a, reward, ob_new, done))            \n",
    "              \n",
    "        if show:\n",
    "            time.sleep(1.0/fps)\n",
    "            env.render(mode='human')        \n",
    "        if done: \n",
    "            break \n",
    "            \n",
    "        ob = ob_new  \n",
    "            \n",
    "    losses.extend(q_agent.train(iter_fit=iter_fit))\n",
    "    stats.append([i,total_reward,t+1])    \n",
    "    \n",
    "    if ((i-1)%20==0):\n",
    "        print(\"{}:\\tDone after {} steps.\\tReward:\\t{}\".format(i, t+1, total_reward))\n",
    "\n",
    "if show:\n",
    "    env.close()"
   ]
  },
  {
   "cell_type": "markdown",
   "metadata": {
    "ExecuteTime": {
     "end_time": "2020-12-21T19:29:28.951108Z",
     "start_time": "2020-12-21T19:29:28.946226Z"
    }
   },
   "source": [
    "Plot the training reward over time. Use the running_mean(array, window_size) to plot a smooth version "
   ]
  },
  {
   "cell_type": "code",
   "execution_count": null,
   "metadata": {
    "ExecuteTime": {
     "end_time": "2020-12-21T19:29:48.979748Z",
     "start_time": "2020-12-21T19:29:48.974261Z"
    }
   },
   "outputs": [],
   "source": [
    "stats_np = np.asarray(stats)\n",
    "\n",
    "mean = running_mean(stats_np[:, 1], 50)\n",
    "plt.plot(mean)\n",
    "plt.savefig(f'{env_name}-{update_target}-{iter_fit}-reward.pdf')\n",
    "plt.show()"
   ]
  },
  {
   "cell_type": "code",
   "execution_count": null,
   "metadata": {
    "ExecuteTime": {
     "end_time": "2020-12-21T19:30:10.718611Z",
     "start_time": "2020-12-21T19:30:10.713607Z"
    }
   },
   "outputs": [],
   "source": [
    "losses_np = np.asarray(losses)\n",
    "\n",
    "mean = running_mean(losses_np, 50)\n",
    "plt.plot(mean)\n",
    "plt.savefig(f'{env_name}-{update_target}-{iter_fit}-loss.pdf')\n",
    "plt.show()"
   ]
  },
  {
   "cell_type": "code",
   "execution_count": null,
   "metadata": {
    "ExecuteTime": {
     "end_time": "2020-12-21T19:30:15.428055Z",
     "start_time": "2020-12-21T19:30:15.419265Z"
    }
   },
   "outputs": [],
   "source": [
    "q_agent.buffer.size"
   ]
  },
  {
   "cell_type": "markdown",
   "metadata": {},
   "source": [
    "## Evaluate (without exploration)"
   ]
  },
  {
   "cell_type": "markdown",
   "metadata": {},
   "source": [
    "Please look at the behavior for a small number of episodes"
   ]
  },
  {
   "cell_type": "code",
   "execution_count": null,
   "metadata": {
    "ExecuteTime": {
     "end_time": "2020-12-21T19:04:24.675613Z",
     "start_time": "2020-12-21T19:04:23.832884Z"
    },
    "scrolled": true,
    "tags": [
     "outputPrepend"
    ]
   },
   "outputs": [],
   "source": [
    "test_stats = []\n",
    "episodes = 1000 # increased the number so that we get statistically significant results\n",
    "fps = 50\n",
    "show = False\n",
    "for i in range(episodes):\n",
    "    total_reward = 0\n",
    "    ob = env.reset()\n",
    "    for t in range(max_steps):\n",
    "        done = False        \n",
    "        a = q_agent.act(ob, eps=0.0)\n",
    "        (ob_new, reward, done, _info) = env.step(a)\n",
    "        total_reward+= reward\n",
    "        ob=ob_new        \n",
    "        if show:\n",
    "            time.sleep(1.0/fps)\n",
    "            env.render(mode='human')        \n",
    "        if done: break    \n",
    "    print(\"{}:\\tDone after {} steps.\\tReward:\\t{}\".format(i, t+1, total_reward))\n",
    "    test_stats.append([i,total_reward,t+1])        "
   ]
  },
  {
   "cell_type": "markdown",
   "metadata": {},
   "source": [
    "Evaluate mean and standard deviation of performance \n",
    "\n",
    "(for the Pendulum: an average return around -30 or better should be achieved)\n",
    "\n",
    "(for the CartPendulum it is possible to get 200)"
   ]
  },
  {
   "cell_type": "code",
   "execution_count": null,
   "metadata": {
    "ExecuteTime": {
     "end_time": "2020-12-21T19:32:07.922653Z",
     "start_time": "2020-12-21T19:32:07.918689Z"
    }
   },
   "outputs": [],
   "source": [
    "np.mean([rew for _, rew, _ in test_stats])"
   ]
  },
  {
   "cell_type": "code",
   "execution_count": null,
   "metadata": {},
   "outputs": [],
   "source": [
    "with open(f'{env_name}-{update_target}-{iter_fit}.pkl', 'wb') as output:\n",
    "    pickle.dump(q_agent, output, pickle.HIGHEST_PROTOCOL)"
   ]
  },
  {
   "cell_type": "markdown",
   "metadata": {},
   "source": [
    "Render 1 episode of the trained model"
   ]
  },
  {
   "cell_type": "code",
   "execution_count": null,
   "metadata": {},
   "outputs": [],
   "source": [
    "max_steps = 200\n",
    "fps=50\n",
    "total_reward = 0\n",
    "ob = env.reset()\n",
    "for t in range(max_steps):\n",
    "    done = False        \n",
    "    a = new_agent.act(ob, eps=0.0)\n",
    "    (ob_new, reward, done, _info) = env.step(a)\n",
    "    total_reward += reward\n",
    "    ob = ob_new        \n",
    "    time.sleep(1.0/fps)\n",
    "    env.render(mode='human')        \n",
    "    if done: break    \n",
    "print(\"Done after {} steps. Reward: {}\".format(t+1, total_reward))    \n",
    "#env.close()"
   ]
  },
  {
   "cell_type": "markdown",
   "metadata": {},
   "source": [
    "# Visualize"
   ]
  },
  {
   "cell_type": "markdown",
   "metadata": {},
   "source": [
    "Visualization of the value function."
   ]
  },
  {
   "cell_type": "markdown",
   "metadata": {},
   "source": [
    "Adapt the value_function plotting from last time to plot the maxQ value"
   ]
  },
  {
   "cell_type": "code",
   "execution_count": null,
   "metadata": {},
   "outputs": [],
   "source": [
    "def plot_Q_function(value_function, o_space, plot_dim1, plot_dim2,\n",
    "                    label_dim1, label_dim2):\n",
    "    plt.rcParams.update({'font.size': 12})\n",
    "    xxs =np.linspace(max(o_space.low[plot_dim1], -10), min(o_space.high[plot_dim1], 10))\n",
    "    yys = np.linspace(max(o_space.low[plot_dim2], -10), min(o_space.high[plot_dim2], 10))\n",
    "    XX,YY=np.meshgrid(xxs,yys)\n",
    "    dots=np.asarray([XX.ravel(),YY.ravel()]).T\n",
    "    # values = np.asarray(test_func(dots)).reshape(XX.shape)\n",
    "    \n",
    "    model_input = np.zeros((dots.shape[0], o_space.shape[0]))\n",
    "    model_input[:, plot_dim1] = dots[:, 0]\n",
    "    model_input[:, plot_dim2] = dots[:, 1]\n",
    "    \n",
    "    values = value_function.maxQ(model_input).reshape(XX.shape)\n",
    "\n",
    "    fig = plt.figure(figsize=[10,8])\n",
    "    ax = fig.gca(projection='3d')\n",
    "    surf = ax.plot_surface(XX, YY, values, cmap=cm.coolwarm,\n",
    "                           linewidth=0, antialiased=False)\n",
    "    \n",
    "    plt.savefig(f'{env_name}-{update_target}-{iter_fit}-value-{plot_dim1}-{plot_dim2}.pdf')\n",
    "    ax.set_xlabel(label_dim1)\n",
    "    ax.set_ylabel(label_dim2)\n",
    "    ax.set_zlabel('value')\n",
    "    # plt.colorbar(cmap=cm.coolwarm)\n",
    "    return fig"
   ]
  },
  {
   "cell_type": "code",
   "execution_count": null,
   "metadata": {},
   "outputs": [],
   "source": [
    "with open(f'{env_name}-{update_target}-{iter_fit}-perfect.pkl', 'rb') as inp:\n",
    "    new_agent = pickle.load(inp)\n",
    "    \n",
    "# Move agent to cpu for inference\n",
    "new_agent.Q.device = torch.device('cpu')\n",
    "new_agent.Q.cpu()"
   ]
  },
  {
   "cell_type": "markdown",
   "metadata": {},
   "source": [
    "## Cartpole Env"
   ]
  },
  {
   "cell_type": "markdown",
   "metadata": {},
   "source": [
    "Observation space:\n",
    " \n",
    "0       Cart Position             -4.8                    4.8\n",
    "\n",
    "1       Cart Velocity             -Inf                    Inf\n",
    "\n",
    "2       Pole Angle                -0.418 rad (-24 deg)    0.418 rad (24 deg)\n",
    "\n",
    "3       Pole Angular Velocity     -Inf                    Inf"
   ]
  },
  {
   "cell_type": "markdown",
   "metadata": {},
   "source": [
    "Try to adapt the plotting function that it also works in higher input spaces."
   ]
  },
  {
   "cell_type": "code",
   "execution_count": null,
   "metadata": {
    "ExecuteTime": {
     "end_time": "2020-12-21T18:54:50.314898Z",
     "start_time": "2020-12-21T18:54:49.995191Z"
    }
   },
   "outputs": [],
   "source": [
    "figQ = plot_Q_function(new_agent.Q, o_space=o_space, plot_dim1=0, plot_dim2=2, \n",
    "                       label_dim1=\"Cart Pos\", label_dim2=\"Pole Angle\")"
   ]
  },
  {
   "cell_type": "code",
   "execution_count": null,
   "metadata": {
    "ExecuteTime": {
     "end_time": "2020-12-21T18:55:35.601378Z",
     "start_time": "2020-12-21T18:55:35.249950Z"
    }
   },
   "outputs": [],
   "source": [
    "figQ = plot_Q_function(new_agent.Q, o_space=o_space, plot_dim1=0, plot_dim2=1, \n",
    "                       label_dim1=\"Cart Pos\", label_dim2=\"Cart Vel\")"
   ]
  },
  {
   "cell_type": "code",
   "execution_count": null,
   "metadata": {
    "ExecuteTime": {
     "end_time": "2020-12-21T18:56:35.399287Z",
     "start_time": "2020-12-21T18:56:35.347982Z"
    }
   },
   "outputs": [],
   "source": [
    "figQ = plot_Q_function(new_agent.Q, o_space=o_space, plot_dim1=2, plot_dim2=3, \n",
    "                       label_dim1=\"Pol Angle\", label_dim2=\"Pole Vel\")"
   ]
  }
 ],
 "metadata": {
  "kernelspec": {
   "display_name": "Python 3",
   "language": "python",
   "name": "python3"
  },
  "language_info": {
   "codemirror_mode": {
    "name": "ipython",
    "version": 3
   },
   "file_extension": ".py",
   "mimetype": "text/x-python",
   "name": "python",
   "nbconvert_exporter": "python",
   "pygments_lexer": "ipython3",
   "version": "3.9.1-final"
  },
  "toc": {
   "base_numbering": 1,
   "nav_menu": {},
   "number_sections": true,
   "sideBar": true,
   "skip_h1_title": false,
   "title_cell": "Table of Contents",
   "title_sidebar": "Contents",
   "toc_cell": false,
   "toc_position": {},
   "toc_section_display": true,
   "toc_window_display": false
  }
 },
 "nbformat": 4,
 "nbformat_minor": 1
}